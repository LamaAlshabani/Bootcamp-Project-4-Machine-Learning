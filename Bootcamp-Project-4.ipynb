{
 "cells": [
  {
   "cell_type": "code",
   "execution_count": 1,
   "id": "35852d23",
   "metadata": {},
   "outputs": [],
   "source": [
    "import warnings\n",
    "warnings.filterwarnings(\"ignore\")\n",
    "import pandas as pd\n",
    "import numpy as np\n",
    "import matplotlib.pyplot as plt\n",
    "import seaborn as sns\n",
    "%matplotlib inline"
   ]
  },
  {
   "cell_type": "code",
   "execution_count": 2,
   "id": "55599059",
   "metadata": {},
   "outputs": [],
   "source": [
    "df = pd.read_csv(\"Network_data.csv\", sep=\";\", decimal=\",\")\n",
    "df = df.dropna() \n"
   ]
  },
  {
   "cell_type": "markdown",
   "id": "6c2c2c5d",
   "metadata": {},
   "source": [
    "# the head rows of the dataframe."
   ]
  },
  {
   "cell_type": "code",
   "execution_count": 3,
   "id": "63f1d5a8",
   "metadata": {},
   "outputs": [
    {
     "data": {
      "text/html": [
       "<div>\n",
       "<style scoped>\n",
       "    .dataframe tbody tr th:only-of-type {\n",
       "        vertical-align: middle;\n",
       "    }\n",
       "\n",
       "    .dataframe tbody tr th {\n",
       "        vertical-align: top;\n",
       "    }\n",
       "\n",
       "    .dataframe thead th {\n",
       "        text-align: right;\n",
       "    }\n",
       "</style>\n",
       "<table border=\"1\" class=\"dataframe\">\n",
       "  <thead>\n",
       "    <tr style=\"text-align: right;\">\n",
       "      <th></th>\n",
       "      <th>FLOW_ID</th>\n",
       "      <th>PROTOCOL_MAP</th>\n",
       "      <th>L4_SRC_PORT</th>\n",
       "      <th>IPV4_SRC_ADDR</th>\n",
       "      <th>L4_DST_PORT</th>\n",
       "      <th>IPV4_DST_ADDR</th>\n",
       "      <th>FIRST_SWITCHED</th>\n",
       "      <th>FLOW_DURATION_MILLISECONDS</th>\n",
       "      <th>LAST_SWITCHED</th>\n",
       "      <th>PROTOCOL</th>\n",
       "      <th>...</th>\n",
       "      <th>TOTAL_PKTS_EXP</th>\n",
       "      <th>TOTAL_BYTES_EXP</th>\n",
       "      <th>IN_BYTES</th>\n",
       "      <th>IN_PKTS</th>\n",
       "      <th>OUT_BYTES</th>\n",
       "      <th>OUT_PKTS</th>\n",
       "      <th>ANALYSIS_TIMESTAMP</th>\n",
       "      <th>ANOMALY</th>\n",
       "      <th>ALERT</th>\n",
       "      <th>ID</th>\n",
       "    </tr>\n",
       "  </thead>\n",
       "  <tbody>\n",
       "    <tr>\n",
       "      <th>0</th>\n",
       "      <td>372018590</td>\n",
       "      <td>udp</td>\n",
       "      <td>53950</td>\n",
       "      <td>10.114.232.40</td>\n",
       "      <td>53</td>\n",
       "      <td>10.114.226.5</td>\n",
       "      <td>1647760833</td>\n",
       "      <td>1</td>\n",
       "      <td>1647760833</td>\n",
       "      <td>17</td>\n",
       "      <td>...</td>\n",
       "      <td>0</td>\n",
       "      <td>0</td>\n",
       "      <td>165</td>\n",
       "      <td>2</td>\n",
       "      <td>275</td>\n",
       "      <td>2</td>\n",
       "      <td>1647760873</td>\n",
       "      <td>0.0</td>\n",
       "      <td>None</td>\n",
       "      <td>0</td>\n",
       "    </tr>\n",
       "    <tr>\n",
       "      <th>1</th>\n",
       "      <td>368604472</td>\n",
       "      <td>tcp</td>\n",
       "      <td>37914</td>\n",
       "      <td>10.114.241.166</td>\n",
       "      <td>38303</td>\n",
       "      <td>10.114.224.218</td>\n",
       "      <td>1647686725</td>\n",
       "      <td>1</td>\n",
       "      <td>1647686725</td>\n",
       "      <td>6</td>\n",
       "      <td>...</td>\n",
       "      <td>0</td>\n",
       "      <td>0</td>\n",
       "      <td>44</td>\n",
       "      <td>1</td>\n",
       "      <td>40</td>\n",
       "      <td>1</td>\n",
       "      <td>1647687338</td>\n",
       "      <td>0.0</td>\n",
       "      <td>Port Scanning</td>\n",
       "      <td>1</td>\n",
       "    </tr>\n",
       "    <tr>\n",
       "      <th>2</th>\n",
       "      <td>367513992</td>\n",
       "      <td>tcp</td>\n",
       "      <td>33216</td>\n",
       "      <td>10.114.241.166</td>\n",
       "      <td>18757</td>\n",
       "      <td>10.114.224.116</td>\n",
       "      <td>1647680044</td>\n",
       "      <td>0</td>\n",
       "      <td>1647680044</td>\n",
       "      <td>6</td>\n",
       "      <td>...</td>\n",
       "      <td>0</td>\n",
       "      <td>0</td>\n",
       "      <td>44</td>\n",
       "      <td>1</td>\n",
       "      <td>40</td>\n",
       "      <td>1</td>\n",
       "      <td>1647680115</td>\n",
       "      <td>1.0</td>\n",
       "      <td>Port Scanning</td>\n",
       "      <td>2</td>\n",
       "    </tr>\n",
       "    <tr>\n",
       "      <th>3</th>\n",
       "      <td>371997670</td>\n",
       "      <td>udp</td>\n",
       "      <td>48627</td>\n",
       "      <td>10.114.225.205</td>\n",
       "      <td>53</td>\n",
       "      <td>10.114.226.5</td>\n",
       "      <td>1647760172</td>\n",
       "      <td>0</td>\n",
       "      <td>1647760172</td>\n",
       "      <td>17</td>\n",
       "      <td>...</td>\n",
       "      <td>0</td>\n",
       "      <td>0</td>\n",
       "      <td>128</td>\n",
       "      <td>2</td>\n",
       "      <td>160</td>\n",
       "      <td>2</td>\n",
       "      <td>1647760207</td>\n",
       "      <td>0.0</td>\n",
       "      <td>None</td>\n",
       "      <td>3</td>\n",
       "    </tr>\n",
       "    <tr>\n",
       "      <th>4</th>\n",
       "      <td>374311119</td>\n",
       "      <td>udp</td>\n",
       "      <td>35939</td>\n",
       "      <td>10.114.225.205</td>\n",
       "      <td>53</td>\n",
       "      <td>10.114.226.5</td>\n",
       "      <td>1647780916</td>\n",
       "      <td>0</td>\n",
       "      <td>1647780916</td>\n",
       "      <td>17</td>\n",
       "      <td>...</td>\n",
       "      <td>0</td>\n",
       "      <td>0</td>\n",
       "      <td>172</td>\n",
       "      <td>2</td>\n",
       "      <td>300</td>\n",
       "      <td>2</td>\n",
       "      <td>1647780984</td>\n",
       "      <td>0.0</td>\n",
       "      <td>None</td>\n",
       "      <td>4</td>\n",
       "    </tr>\n",
       "  </tbody>\n",
       "</table>\n",
       "<p>5 rows × 33 columns</p>\n",
       "</div>"
      ],
      "text/plain": [
       "     FLOW_ID PROTOCOL_MAP  L4_SRC_PORT   IPV4_SRC_ADDR  L4_DST_PORT  \\\n",
       "0  372018590          udp        53950   10.114.232.40           53   \n",
       "1  368604472          tcp        37914  10.114.241.166        38303   \n",
       "2  367513992          tcp        33216  10.114.241.166        18757   \n",
       "3  371997670          udp        48627  10.114.225.205           53   \n",
       "4  374311119          udp        35939  10.114.225.205           53   \n",
       "\n",
       "    IPV4_DST_ADDR  FIRST_SWITCHED  FLOW_DURATION_MILLISECONDS  LAST_SWITCHED  \\\n",
       "0    10.114.226.5      1647760833                           1     1647760833   \n",
       "1  10.114.224.218      1647686725                           1     1647686725   \n",
       "2  10.114.224.116      1647680044                           0     1647680044   \n",
       "3    10.114.226.5      1647760172                           0     1647760172   \n",
       "4    10.114.226.5      1647780916                           0     1647780916   \n",
       "\n",
       "   PROTOCOL  ...  TOTAL_PKTS_EXP  TOTAL_BYTES_EXP  IN_BYTES  IN_PKTS  \\\n",
       "0        17  ...               0                0       165        2   \n",
       "1         6  ...               0                0        44        1   \n",
       "2         6  ...               0                0        44        1   \n",
       "3        17  ...               0                0       128        2   \n",
       "4        17  ...               0                0       172        2   \n",
       "\n",
       "   OUT_BYTES  OUT_PKTS  ANALYSIS_TIMESTAMP  ANOMALY          ALERT  ID  \n",
       "0        275         2          1647760873      0.0           None   0  \n",
       "1         40         1          1647687338      0.0  Port Scanning   1  \n",
       "2         40         1          1647680115      1.0  Port Scanning   2  \n",
       "3        160         2          1647760207      0.0           None   3  \n",
       "4        300         2          1647780984      0.0           None   4  \n",
       "\n",
       "[5 rows x 33 columns]"
      ]
     },
     "execution_count": 3,
     "metadata": {},
     "output_type": "execute_result"
    }
   ],
   "source": [
    "df.head()"
   ]
  },
  {
   "cell_type": "markdown",
   "id": "87c49b2b",
   "metadata": {},
   "source": [
    "# Encoder : "
   ]
  },
  {
   "cell_type": "code",
   "execution_count": 4,
   "id": "69e4827b",
   "metadata": {},
   "outputs": [],
   "source": [
    "from sklearn import preprocessing\n",
    "\n",
    "# Apply Leabl encoding\n",
    "le = preprocessing.LabelEncoder()\n",
    "le.fit(df['IPV4_SRC_ADDR'])\n",
    "df['IPV4_SRC_ADDR']=le.transform(df['IPV4_SRC_ADDR'])\n",
    "\n",
    "le.fit(df['IPV4_DST_ADDR'])\n",
    "df['IPV4_DST_ADDR']=le.transform(df['IPV4_DST_ADDR'])\n",
    "\n",
    "from sklearn.preprocessing import OneHotEncoder\n",
    "\n",
    "# Apply one-hot encoding\n",
    "encoder = OneHotEncoder()\n",
    "encoded = encoder.fit_transform(df[['PROTOCOL_MAP']])\n",
    "encoded_df = pd.DataFrame(encoded.toarray(), columns=encoder.get_feature_names_out(['PROTOCOL_MAP']))\n",
    "final_df = df.join(encoded_df)\n",
    "final_df.drop('PROTOCOL_MAP', axis=1, inplace=True)\n",
    "\n",
    "# fill 0 in one-hot encoding\n",
    "final_df['PROTOCOL_MAP_udp'] = final_df['PROTOCOL_MAP_udp'].fillna(0)\n",
    "final_df['PROTOCOL_MAP_tcp'] = final_df['PROTOCOL_MAP_tcp'].fillna(0)\n",
    "final_df['PROTOCOL_MAP_gre'] = final_df['PROTOCOL_MAP_gre'].fillna(0)\n",
    "final_df['PROTOCOL_MAP_icmp'] = final_df['PROTOCOL_MAP_icmp'].fillna(0)\n",
    "final_df['PROTOCOL_MAP_ipv6-icmp'] = final_df['PROTOCOL_MAP_ipv6-icmp'].fillna(0)\n"
   ]
  },
  {
   "cell_type": "markdown",
   "id": "86f5b60f",
   "metadata": {},
   "source": [
    "# Split the dataset into Train and Test sets with test_size=30% and random_state=23"
   ]
  },
  {
   "cell_type": "code",
   "execution_count": 5,
   "id": "54822653",
   "metadata": {},
   "outputs": [],
   "source": [
    "from sklearn.model_selection import train_test_split\n",
    "X = final_df.drop('ALERT',axis=1)\n",
    "y = final_df['ALERT']\n",
    "X_train, X_test, y_train, y_test = train_test_split(X, y, test_size=0.30 , random_state=11)"
   ]
  },
  {
   "cell_type": "markdown",
   "id": "6491a96c",
   "metadata": {},
   "source": [
    "# DecisionTree"
   ]
  },
  {
   "cell_type": "code",
   "execution_count": 6,
   "id": "815268ac",
   "metadata": {},
   "outputs": [
    {
     "name": "stdout",
     "output_type": "stream",
     "text": [
      "--Decision Trees--\n",
      "\n",
      " confusion matrix : \n",
      " [[    2     0     0]\n",
      " [    0 27596     0]\n",
      " [    0     1  7553]] \n",
      "\n",
      "accuracy :  99.99715521165226\n"
     ]
    }
   ],
   "source": [
    "from sklearn.metrics import confusion_matrix, accuracy_score , ConfusionMatrixDisplay\n",
    "from sklearn.tree import DecisionTreeClassifier\n",
    "\n",
    "dtree = DecisionTreeClassifier()\n",
    "dtree.fit(X_train,y_train)\n",
    "predictions = dtree.predict(X_test)\n",
    "\n",
    "print(\"--Decision Trees--\\n\")\n",
    "print(\" confusion matrix : \\n\",confusion_matrix(y_test,predictions) , \"\\n\")\n",
    "print(\"accuracy : \",accuracy_score(y_test,predictions)*100)"
   ]
  },
  {
   "cell_type": "code",
   "execution_count": 7,
   "id": "ca806da2",
   "metadata": {},
   "outputs": [
    {
     "data": {
      "image/png": "[encoded data removed]",
      "text/plain": [
       "<Figure size 640x480 with 2 Axes>"
      ]
     },
     "metadata": {},
     "output_type": "display_data"
    }
   ],
   "source": [
    "display_dtree=ConfusionMatrixDisplay(confusion_matrix=confusion_matrix(y_test,predictions),display_labels=dtree.classes_)\n",
    "display_dtree.plot()\n",
    "plt.show()"
   ]
  },
  {
   "cell_type": "markdown",
   "id": "9d0b59ea",
   "metadata": {},
   "source": [
    "# GaussianNB"
   ]
  },
  {
   "cell_type": "code",
   "execution_count": 14,
   "id": "ebf05e8e",
   "metadata": {
    "scrolled": true
   },
   "outputs": [
    {
     "name": "stdout",
     "output_type": "stream",
     "text": [
      "--Naive Bayes Classifiers--\n",
      "\n",
      " confusion matrix : \n",
      " [[    2     0     0]\n",
      " [    0 27411   185]\n",
      " [    0     3  7551]] \n",
      "\n",
      "accuracy :  99.46517979062358\n"
     ]
    }
   ],
   "source": [
    "from sklearn.naive_bayes import GaussianNB\n",
    "gnb = GaussianNB()\n",
    "gnb.fit(X_train, y_train)\n",
    " \n",
    "y_pred = gnb.predict(X_test)\n",
    "print(\"--Naive Bayes Classifiers--\\n\")\n",
    "print(\" confusion matrix : \\n\",confusion_matrix(y_test,y_pred), \"\\n\")\n",
    "print(\"accuracy : \",accuracy_score(y_test,y_pred)*100)"
   ]
  },
  {
   "cell_type": "code",
   "execution_count": 12,
   "id": "62f076d7",
   "metadata": {},
   "outputs": [
    {
     "ename": "TypeError",
     "evalue": "ConfusionMatrixDisplay.__init__() got an unexpected keyword argument 'cmap'",
     "output_type": "error",
     "traceback": [
      "\u001b[1;31m---------------------------------------------------------------------------\u001b[0m",
      "\u001b[1;31mTypeError\u001b[0m                                 Traceback (most recent call last)",
      "Cell \u001b[1;32mIn[12], line 1\u001b[0m\n\u001b[1;32m----> 1\u001b[0m display_gnb\u001b[38;5;241m=\u001b[39m\u001b[43mConfusionMatrixDisplay\u001b[49m\u001b[43m(\u001b[49m\u001b[43mconfusion_matrix\u001b[49m\u001b[38;5;241;43m=\u001b[39;49m\u001b[43mconfusion_matrix\u001b[49m\u001b[43m(\u001b[49m\u001b[43my_test\u001b[49m\u001b[43m,\u001b[49m\u001b[43my_pred\u001b[49m\u001b[43m)\u001b[49m\u001b[43m,\u001b[49m\u001b[43mdisplay_labels\u001b[49m\u001b[38;5;241;43m=\u001b[39;49m\u001b[43mgnb\u001b[49m\u001b[38;5;241;43m.\u001b[39;49m\u001b[43mclasses_\u001b[49m\u001b[43m \u001b[49m\u001b[43m,\u001b[49m\u001b[43m \u001b[49m\u001b[43mcmap\u001b[49m\u001b[38;5;241;43m=\u001b[39;49m\u001b[43mplt\u001b[49m\u001b[38;5;241;43m.\u001b[39;49m\u001b[43mcm\u001b[49m\u001b[38;5;241;43m.\u001b[39;49m\u001b[43mBlues\u001b[49m\u001b[43m)\u001b[49m\n\u001b[0;32m      2\u001b[0m display_gnb\u001b[38;5;241m.\u001b[39mplot()\n\u001b[0;32m      3\u001b[0m plt\u001b[38;5;241m.\u001b[39mshow()\n",
      "\u001b[1;31mTypeError\u001b[0m: ConfusionMatrixDisplay.__init__() got an unexpected keyword argument 'cmap'"
     ]
    }
   ],
   "source": [
    "display_gnb=ConfusionMatrixDisplay(confusion_matrix=confusion_matrix(y_test,y_pred),display_labels=gnb.classes_ , cmap=plt.cm.Blues)\n",
    "display_gnb.plot()\n",
    "plt.show()"
   ]
  },
  {
   "cell_type": "markdown",
   "id": "5e6f1b74",
   "metadata": {},
   "source": [
    "# RandomForest"
   ]
  },
  {
   "cell_type": "code",
   "execution_count": 9,
   "id": "34cf1aa8",
   "metadata": {
    "scrolled": true
   },
   "outputs": [
    {
     "name": "stdout",
     "output_type": "stream",
     "text": [
      "--Random Forests--\n",
      "\n",
      " confusion matrix : \n",
      " [[    2     0     0]\n",
      " [    0 27484   112]\n",
      " [    0     4  7550]] \n",
      "\n",
      "accuracy :  99.67000455166135\n"
     ]
    }
   ],
   "source": [
    "from sklearn.ensemble import RandomForestClassifier\n",
    "\n",
    "rfc = RandomForestClassifier(n_estimators = 20, criterion = 'gini', max_depth = 4) \n",
    "rfc.fit(X_train, y_train)\n",
    "rfc_pred = rfc.predict(X_test)\n",
    "\n",
    "print(\"--Random Forests--\\n\")\n",
    "print(\" confusion matrix : \\n\",confusion_matrix(y_test,rfc_pred) , \"\\n\")\n",
    "print(\"accuracy : \",accuracy_score(y_test,rfc_pred)*100)"
   ]
  },
  {
   "cell_type": "code",
   "execution_count": 10,
   "id": "35246fc9",
   "metadata": {},
   "outputs": [
    {
     "data": {
      "image/png": "[encoded data removed]",
      "text/plain": [
       "<Figure size 640x480 with 2 Axes>"
      ]
     },
     "metadata": {},
     "output_type": "display_data"
    }
   ],
   "source": [
    "display_rfc=ConfusionMatrixDisplay(confusion_matrix=confusion_matrix(y_test,rfc_pred),display_labels=rfc.classes_)\n",
    "display_rfc.plot()\n",
    "plt.show()"
   ]
  },
  {
   "cell_type": "markdown",
   "id": "74d31d73",
   "metadata": {},
   "source": [
    "# Conclusion"
   ]
  },
  {
   "cell_type": "markdown",
   "id": "d1118bb6",
   "metadata": {},
   "source": [
    "### Since we need to classify network connections, we used Algorithm Classification, so we tried KNeighbour, GaussianNB, RandomForest, Support Vector Machine, and DecisionTree. We found the highest accuracy percentage in the algorithms, that is  DecisionTree , GaussianNB, Random Forests, ..Respectively"
   ]
  }
 ],
 "metadata": {
  "kernelspec": {
   "display_name": "Python 3 (ipykernel)",
   "language": "python",
   "name": "python3"
  },
  "language_info": {
   "codemirror_mode": {
    "name": "ipython",
    "version": 3
   },
   "file_extension": ".py",
   "mimetype": "text/x-python",
   "name": "python",
   "nbconvert_exporter": "python",
   "pygments_lexer": "ipython3",
   "version": "3.10.9"
  }
 },
 "nbformat": 4,
 "nbformat_minor": 5
}
